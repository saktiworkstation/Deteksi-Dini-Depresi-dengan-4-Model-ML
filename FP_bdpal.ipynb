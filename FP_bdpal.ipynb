{
  "nbformat": 4,
  "nbformat_minor": 0,
  "metadata": {
    "colab": {
      "provenance": [],
      "collapsed_sections": [
        "mxcmN3voyGrM"
      ],
      "gpuType": "T4",
      "include_colab_link": true
    },
    "kernelspec": {
      "name": "python3",
      "display_name": "Python 3"
    },
    "language_info": {
      "name": "python"
    },
    "accelerator": "GPU"
  },
  "cells": [
    {
      "cell_type": "markdown",
      "metadata": {
        "id": "view-in-github",
        "colab_type": "text"
      },
      "source": [
        "<a href=\"https://colab.research.google.com/github/saktiworkstation/Deteksi-Dini-Depresi-dengan-4-Model-ML/blob/main/FP_bdpal.ipynb\" target=\"_parent\"><img src=\"https://colab.research.google.com/assets/colab-badge.svg\" alt=\"Open In Colab\"/></a>"
      ]
    },
    {
      "cell_type": "markdown",
      "source": [
        "#Load Data"
      ],
      "metadata": {
        "id": "zxlKGAmqf8vY"
      }
    },
    {
      "cell_type": "code",
      "source": [
        "from google.colab import drive\n",
        "drive.mount('/content/drive')"
      ],
      "metadata": {
        "colab": {
          "base_uri": "https://localhost:8080/"
        },
        "id": "4bqptQia1dFj",
        "outputId": "6b351135-3257-4106-bcb1-842835c9333e"
      },
      "execution_count": null,
      "outputs": [
        {
          "output_type": "stream",
          "name": "stdout",
          "text": [
            "Mounted at /content/drive\n"
          ]
        }
      ]
    },
    {
      "cell_type": "code",
      "source": [
        "!pip install pyspark"
      ],
      "metadata": {
        "colab": {
          "base_uri": "https://localhost:8080/"
        },
        "id": "6bZoVGBBgk2a",
        "outputId": "af23b228-a5c4-48f4-8efa-f2c5c5de1fe7"
      },
      "execution_count": null,
      "outputs": [
        {
          "output_type": "stream",
          "name": "stdout",
          "text": [
            "Requirement already satisfied: pyspark in /usr/local/lib/python3.10/dist-packages (3.5.4)\n",
            "Requirement already satisfied: py4j==0.10.9.7 in /usr/local/lib/python3.10/dist-packages (from pyspark) (0.10.9.7)\n"
          ]
        }
      ]
    },
    {
      "cell_type": "code",
      "source": [
        "from pyspark.sql import SparkSession\n",
        "from pyspark.ml import Pipeline\n",
        "from pyspark.sql.functions import col, mean, stddev, count, when, isnan\n",
        "from pyspark.ml.clustering import GaussianMixture, KMeans\n",
        "from pyspark.ml.classification import GBTClassifier, RandomForestClassifier\n",
        "from pyspark.ml.feature import StringIndexer, VectorAssembler, MinMaxScaler\n",
        "from pyspark.ml.evaluation import MulticlassClassificationEvaluator\n",
        "from pyspark.ml.tuning import CrossValidator, ParamGridBuilder\n",
        "\n",
        "import matplotlib.pyplot as plt"
      ],
      "metadata": {
        "id": "5OFK2LkWgk5F"
      },
      "execution_count": null,
      "outputs": []
    },
    {
      "cell_type": "code",
      "source": [
        "spark = SparkSession.builder.appName(\"DepressionDetection\").getOrCreate()"
      ],
      "metadata": {
        "id": "PUH-v19Sgkz6"
      },
      "execution_count": null,
      "outputs": []
    },
    {
      "cell_type": "code",
      "source": [
        "df = spark.read.csv(\"/content/drive/MyDrive/AI Lanjut/dataset/depression_data.csv\", header=True)"
      ],
      "metadata": {
        "id": "_woE4ASwaG2L"
      },
      "execution_count": null,
      "outputs": []
    },
    {
      "cell_type": "code",
      "source": [
        "df.show(5)"
      ],
      "metadata": {
        "colab": {
          "base_uri": "https://localhost:8080/"
        },
        "id": "gpwfo3lfaKks",
        "outputId": "214499e2-6f26-4ca0-935c-66508f088544"
      },
      "execution_count": null,
      "outputs": [
        {
          "output_type": "stream",
          "name": "stdout",
          "text": [
            "+----------------+---+--------------+-----------------+------------------+--------------+-----------------------+-----------------+---------+-------------------+--------------+--------------+-------------------------+--------------------------+----------------------------+--------------------------+\n",
            "|            Name|Age|Marital Status|  Education Level|Number of Children|Smoking Status|Physical Activity Level|Employment Status|   Income|Alcohol Consumption|Dietary Habits|Sleep Patterns|History of Mental Illness|History of Substance Abuse|Family History of Depression|Chronic Medical Conditions|\n",
            "+----------------+---+--------------+-----------------+------------------+--------------+-----------------------+-----------------+---------+-------------------+--------------+--------------+-------------------------+--------------------------+----------------------------+--------------------------+\n",
            "|Christine Barker| 31|       Married|Bachelor's Degree|                 2|    Non-smoker|                 Active|       Unemployed| 26265.67|           Moderate|      Moderate|          Fair|                      Yes|                        No|                         Yes|                       Yes|\n",
            "|Jacqueline Lewis| 55|       Married|      High School|                 1|    Non-smoker|              Sedentary|         Employed| 42710.36|               High|     Unhealthy|          Fair|                      Yes|                        No|                          No|                       Yes|\n",
            "|  Shannon Church| 78|       Widowed|  Master's Degree|                 1|    Non-smoker|              Sedentary|         Employed|125332.79|                Low|     Unhealthy|          Good|                       No|                        No|                         Yes|                        No|\n",
            "|  Charles Jordan| 58|      Divorced|  Master's Degree|                 3|    Non-smoker|               Moderate|       Unemployed|  9992.78|           Moderate|      Moderate|          Poor|                       No|                        No|                          No|                        No|\n",
            "|    Michael Rich| 18|        Single|      High School|                 0|    Non-smoker|              Sedentary|       Unemployed|  8595.08|                Low|      Moderate|          Fair|                      Yes|                        No|                         Yes|                       Yes|\n",
            "+----------------+---+--------------+-----------------+------------------+--------------+-----------------------+-----------------+---------+-------------------+--------------+--------------+-------------------------+--------------------------+----------------------------+--------------------------+\n",
            "only showing top 5 rows\n",
            "\n"
          ]
        }
      ]
    },
    {
      "cell_type": "markdown",
      "source": [
        "#Pre-Processing"
      ],
      "metadata": {
        "id": "f6kT0tvWf8Vq"
      }
    },
    {
      "cell_type": "code",
      "source": [
        "df.printSchema()"
      ],
      "metadata": {
        "colab": {
          "base_uri": "https://localhost:8080/"
        },
        "id": "oi-y4k2Waw0R",
        "outputId": "394e895d-0e61-4c48-9546-7bd977827b53"
      },
      "execution_count": null,
      "outputs": [
        {
          "output_type": "stream",
          "name": "stdout",
          "text": [
            "root\n",
            " |-- Name: string (nullable = true)\n",
            " |-- Age: string (nullable = true)\n",
            " |-- Marital Status: string (nullable = true)\n",
            " |-- Education Level: string (nullable = true)\n",
            " |-- Number of Children: string (nullable = true)\n",
            " |-- Smoking Status: string (nullable = true)\n",
            " |-- Physical Activity Level: string (nullable = true)\n",
            " |-- Employment Status: string (nullable = true)\n",
            " |-- Income: string (nullable = true)\n",
            " |-- Alcohol Consumption: string (nullable = true)\n",
            " |-- Dietary Habits: string (nullable = true)\n",
            " |-- Sleep Patterns: string (nullable = true)\n",
            " |-- History of Mental Illness: string (nullable = true)\n",
            " |-- History of Substance Abuse: string (nullable = true)\n",
            " |-- Family History of Depression: string (nullable = true)\n",
            " |-- Chronic Medical Conditions: string (nullable = true)\n",
            "\n"
          ]
        }
      ]
    },
    {
      "cell_type": "code",
      "source": [
        "df.describe().show()"
      ],
      "metadata": {
        "colab": {
          "base_uri": "https://localhost:8080/"
        },
        "id": "n5Q8fVH5aqyW",
        "outputId": "a46f69a4-328e-4533-bae5-f3d6c90edf3d"
      },
      "execution_count": null,
      "outputs": [
        {
          "output_type": "stream",
          "name": "stdout",
          "text": [
            "+-------+-----------+------------------+--------------+----------------+------------------+--------------+-----------------------+-----------------+------------------+-------------------+--------------+--------------+-------------------------+--------------------------+----------------------------+--------------------------+\n",
            "|summary|       Name|               Age|Marital Status| Education Level|Number of Children|Smoking Status|Physical Activity Level|Employment Status|            Income|Alcohol Consumption|Dietary Habits|Sleep Patterns|History of Mental Illness|History of Substance Abuse|Family History of Depression|Chronic Medical Conditions|\n",
            "+-------+-----------+------------------+--------------+----------------+------------------+--------------+-----------------------+-----------------+------------------+-------------------+--------------+--------------+-------------------------+--------------------------+----------------------------+--------------------------+\n",
            "|  count|     413768|            413768|        413768|          413768|            413768|        413768|                 413768|           413768|            413768|             413768|        413768|        413768|                   413768|                    413768|                      413768|                    413768|\n",
            "|   mean|       NULL| 49.00071295991957|          NULL|            NULL|1.2989718876278493|          NULL|                   NULL|             NULL| 50661.70797130264|               NULL|          NULL|          NULL|                     NULL|                      NULL|                        NULL|                      NULL|\n",
            "| stddev|       NULL|18.158759370459002|          NULL|            NULL|1.2370539679549317|          NULL|                   NULL|             NULL|40624.100564743465|               NULL|          NULL|          NULL|                     NULL|                      NULL|                        NULL|                      NULL|\n",
            "|    min|Aaron Adams|                18|      Divorced|Associate Degree|                 0|       Current|                 Active|         Employed|              0.41|               High|       Healthy|          Fair|                       No|                        No|                          No|                        No|\n",
            "|    max| Zoe Wilson|                80|       Widowed|             PhD|                 4|    Non-smoker|              Sedentary|       Unemployed|          99999.75|           Moderate|     Unhealthy|          Poor|                      Yes|                       Yes|                         Yes|                       Yes|\n",
            "+-------+-----------+------------------+--------------+----------------+------------------+--------------+-----------------------+-----------------+------------------+-------------------+--------------+--------------+-------------------------+--------------------------+----------------------------+--------------------------+\n",
            "\n"
          ]
        }
      ]
    },
    {
      "cell_type": "code",
      "source": [
        "missing_data = df.select([count(when(isnan(c) | col(c).isNull(), c)).alias(c) for c in df.columns])\n",
        "print(\"Missing data for each column:\")\n",
        "missing_data.show()"
      ],
      "metadata": {
        "colab": {
          "base_uri": "https://localhost:8080/"
        },
        "id": "en3nbPY-kWFK",
        "outputId": "93c92b68-2beb-4c11-f77f-51d1732df2cb"
      },
      "execution_count": null,
      "outputs": [
        {
          "output_type": "stream",
          "name": "stdout",
          "text": [
            "Missing data for each column:\n",
            "+----+---+--------------+---------------+------------------+--------------+-----------------------+-----------------+------+-------------------+--------------+--------------+-------------------------+--------------------------+----------------------------+--------------------------+\n",
            "|Name|Age|Marital Status|Education Level|Number of Children|Smoking Status|Physical Activity Level|Employment Status|Income|Alcohol Consumption|Dietary Habits|Sleep Patterns|History of Mental Illness|History of Substance Abuse|Family History of Depression|Chronic Medical Conditions|\n",
            "+----+---+--------------+---------------+------------------+--------------+-----------------------+-----------------+------+-------------------+--------------+--------------+-------------------------+--------------------------+----------------------------+--------------------------+\n",
            "|   0|  0|             0|              0|                 0|             0|                      0|                0|     0|                  0|             0|             0|                        0|                         0|                           0|                         0|\n",
            "+----+---+--------------+---------------+------------------+--------------+-----------------------+-----------------+------+-------------------+--------------+--------------+-------------------------+--------------------------+----------------------------+--------------------------+\n",
            "\n"
          ]
        }
      ]
    },
    {
      "cell_type": "code",
      "source": [
        "duplicates = (\n",
        "    df.groupBy(df.columns)\n",
        "    .count()\n",
        "    .filter(\"count > 1\")\n",
        ")\n",
        "\n",
        "# Tampilkan duplikat\n",
        "duplicates.show()"
      ],
      "metadata": {
        "colab": {
          "base_uri": "https://localhost:8080/"
        },
        "id": "Tg3DSbiLbtyp",
        "outputId": "73cc2c37-2bad-4bdd-f615-318a996749a8"
      },
      "execution_count": null,
      "outputs": [
        {
          "output_type": "stream",
          "name": "stdout",
          "text": [
            "+----+---+--------------+---------------+------------------+--------------+-----------------------+-----------------+------+-------------------+--------------+--------------+-------------------------+--------------------------+----------------------------+--------------------------+-----+\n",
            "|Name|Age|Marital Status|Education Level|Number of Children|Smoking Status|Physical Activity Level|Employment Status|Income|Alcohol Consumption|Dietary Habits|Sleep Patterns|History of Mental Illness|History of Substance Abuse|Family History of Depression|Chronic Medical Conditions|count|\n",
            "+----+---+--------------+---------------+------------------+--------------+-----------------------+-----------------+------+-------------------+--------------+--------------+-------------------------+--------------------------+----------------------------+--------------------------+-----+\n",
            "+----+---+--------------+---------------+------------------+--------------+-----------------------+-----------------+------+-------------------+--------------+--------------+-------------------------+--------------------------+----------------------------+--------------------------+-----+\n",
            "\n"
          ]
        }
      ]
    },
    {
      "cell_type": "code",
      "source": [
        "numerical_columns = ['Age', 'Income', 'Number of Children']\n",
        "categorical_columns = [\n",
        "    \"Marital Status\", \"Education Level\", \"Smoking Status\", \"Physical Activity Level\",\n",
        "    \"Employment Status\", \"Dietary Habits\", \"Sleep Patterns\",\n",
        "    \"History of Mental Illness\", \"History of Substance Abuse\",\n",
        "    \"Family History of Depression\", \"Chronic Medical Conditions\"\n",
        "]"
      ],
      "metadata": {
        "id": "_oUcWtZTBlJY"
      },
      "execution_count": null,
      "outputs": []
    },
    {
      "cell_type": "code",
      "source": [
        "from pyspark.ml.feature import VectorAssembler, StringIndexer\n",
        "\n",
        "indexers = [StringIndexer(inputCol=col, outputCol=f\"{col}_Index\").fit(df) for col in categorical_columns]\n",
        "for indexer in indexers:\n",
        "    df = indexer.transform(df)\n",
        "\n",
        "encoded_features = [f\"{col}_Index\" for col in categorical_columns]"
      ],
      "metadata": {
        "id": "Mo3xhVfMEnty"
      },
      "execution_count": null,
      "outputs": []
    },
    {
      "cell_type": "code",
      "source": [
        "from pyspark.sql.types import IntegerType\n",
        "\n",
        "for col in numerical_columns:\n",
        "    df = df.withColumn(col, df[col].cast(IntegerType()))"
      ],
      "metadata": {
        "id": "btQGbxX1D4VL"
      },
      "execution_count": null,
      "outputs": []
    },
    {
      "cell_type": "markdown",
      "source": [
        "#EDA"
      ],
      "metadata": {
        "id": "gBtBsTdef8TK"
      }
    },
    {
      "cell_type": "code",
      "source": [
        "feature_columns = numerical_columns  + encoded_features\n",
        "feature_columns"
      ],
      "metadata": {
        "colab": {
          "base_uri": "https://localhost:8080/"
        },
        "id": "v_FppjIdn4V8",
        "outputId": "48c65b08-907e-4051-a1e4-99593c54df8f"
      },
      "execution_count": null,
      "outputs": [
        {
          "output_type": "execute_result",
          "data": {
            "text/plain": [
              "['Age',\n",
              " 'Income',\n",
              " 'Number of Children',\n",
              " 'Marital Status_Index',\n",
              " 'Education Level_Index',\n",
              " 'Smoking Status_Index',\n",
              " 'Physical Activity Level_Index',\n",
              " 'Employment Status_Index',\n",
              " 'Dietary Habits_Index',\n",
              " 'Sleep Patterns_Index',\n",
              " 'History of Mental Illness_Index',\n",
              " 'History of Substance Abuse_Index',\n",
              " 'Family History of Depression_Index',\n",
              " 'Chronic Medical Conditions_Index']"
            ]
          },
          "metadata": {},
          "execution_count": 14
        }
      ]
    },
    {
      "cell_type": "code",
      "source": [
        "from pyspark.ml.stat import Correlation\n",
        "\n",
        "vector_col = \"features\"\n",
        "assembler = VectorAssembler(inputCols=feature_columns, outputCol=vector_col)\n",
        "assembled_data = assembler.transform(df)"
      ],
      "metadata": {
        "id": "1YvWsJ4QoKBS"
      },
      "execution_count": null,
      "outputs": []
    },
    {
      "cell_type": "code",
      "source": [
        "assembled_data.select(\"Name\", \"features\").show(5, truncate=False)"
      ],
      "metadata": {
        "colab": {
          "base_uri": "https://localhost:8080/"
        },
        "id": "yuI0FgA3Ml51",
        "outputId": "5ca22c8b-2516-4f29-fe09-38dfd29b8296"
      },
      "execution_count": null,
      "outputs": [
        {
          "output_type": "stream",
          "name": "stdout",
          "text": [
            "+----------------+--------------------------------------------------------------+\n",
            "|Name            |features                                                      |\n",
            "+----------------+--------------------------------------------------------------+\n",
            "|Christine Barker|[31.0,26265.0,2.0,0.0,0.0,0.0,2.0,1.0,1.0,0.0,1.0,0.0,1.0,1.0]|\n",
            "|Jacqueline Lewis|(14,[0,1,2,4,10,13],[55.0,42710.0,1.0,1.0,1.0,1.0])           |\n",
            "|Shannon Church  |(14,[0,1,2,3,4,9,12],[78.0,125332.0,1.0,2.0,3.0,2.0,1.0])     |\n",
            "|Charles Jordan  |[58.0,9992.0,3.0,3.0,3.0,0.0,1.0,1.0,1.0,1.0,0.0,0.0,0.0,0.0] |\n",
            "|Michael Rich    |[18.0,8595.0,0.0,1.0,1.0,0.0,0.0,1.0,1.0,0.0,1.0,0.0,1.0,1.0] |\n",
            "+----------------+--------------------------------------------------------------+\n",
            "only showing top 5 rows\n",
            "\n"
          ]
        }
      ]
    },
    {
      "cell_type": "markdown",
      "source": [
        "#Cluster"
      ],
      "metadata": {
        "id": "PT85dNXMf8Qt"
      }
    },
    {
      "cell_type": "markdown",
      "source": [
        "<h1>K-Means</h1>"
      ],
      "metadata": {
        "id": "IrDAQ3EAf8Lk"
      }
    },
    {
      "cell_type": "code",
      "source": [
        "kmeans = KMeans(k=3, seed=1, featuresCol=\"features\", predictionCol=\"prediction_kmeans\")\n",
        "model_kmeans = kmeans.fit(assembled_data)"
      ],
      "metadata": {
        "id": "yohFzOATsNKo"
      },
      "execution_count": null,
      "outputs": []
    },
    {
      "cell_type": "code",
      "source": [
        "predictions_kmeans = model_kmeans.transform(assembled_data)"
      ],
      "metadata": {
        "id": "F0HC-lJ9stAr"
      },
      "execution_count": null,
      "outputs": []
    },
    {
      "cell_type": "code",
      "source": [
        "from pyspark.sql.functions import col, when\n",
        "\n",
        "# Menambahkan kolom Stress_Level\n",
        "predictions_kmeans = predictions_kmeans.withColumn(\n",
        "    \"Stress_Level\",\n",
        "    when(col(\"prediction_kmeans\") == 0, \"Low\")\n",
        "    .when(col(\"prediction_kmeans\") == 1, \"Moderate\")\n",
        "    .otherwise(\"High\")\n",
        ")\n"
      ],
      "metadata": {
        "id": "8mzYbH7DtCCu"
      },
      "execution_count": null,
      "outputs": []
    },
    {
      "cell_type": "code",
      "source": [
        "predictions_kmeans.select(\"Name\", \"features\", \"prediction_kmeans\", \"Stress_Level\").show()"
      ],
      "metadata": {
        "colab": {
          "base_uri": "https://localhost:8080/"
        },
        "id": "iHrEP3tPtCs-",
        "outputId": "26f9f054-d021-4ce7-d633-c9b4d1b079b4"
      },
      "execution_count": null,
      "outputs": [
        {
          "output_type": "stream",
          "name": "stdout",
          "text": [
            "+-------------------+--------------------+-----------------+------------+\n",
            "|               Name|            features|prediction_kmeans|Stress_Level|\n",
            "+-------------------+--------------------+-----------------+------------+\n",
            "|   Christine Barker|[31.0,26265.0,2.0...|                0|         Low|\n",
            "|   Jacqueline Lewis|(14,[0,1,2,4,10,1...|                0|         Low|\n",
            "|     Shannon Church|(14,[0,1,2,3,4,9,...|                2|        High|\n",
            "|     Charles Jordan|[58.0,9992.0,3.0,...|                0|         Low|\n",
            "|       Michael Rich|[18.0,8595.0,0.0,...|                0|         Low|\n",
            "|         Kathy Hill|(14,[0,1,3,4,5,6,...|                0|         Low|\n",
            "|    Crystal Delgado|[60.0,22565.0,1.0...|                0|         Low|\n",
            "|     Charles Kaiser|(14,[0,1,3,4,6,9]...|                0|         Low|\n",
            "|     Kathryn Taylor|(14,[0,1,3,6,8,9,...|                1|    Moderate|\n",
            "|Alexander Hernandez|(14,[0,1,2,9,10],...|                1|    Moderate|\n",
            "|       Scott Butler|[70.0,28528.0,1.0...|                0|         Low|\n",
            "|       Anthony Rowe|(14,[0,1,2],[59.0...|                1|    Moderate|\n",
            "|        Megan Haley|(14,[0,1,2,7,8,10...|                0|         Low|\n",
            "|      Anne Gonzalez|[70.0,13428.0,1.0...|                0|         Low|\n",
            "|         Linda Bush|(14,[0,1,2,3,7,8,...|                0|         Low|\n",
            "|     Daniel Estrada|(14,[0,1,4,6,8],[...|                2|        High|\n",
            "|       Alyssa Scott|(14,[0,1,3,5,6,8,...|                1|    Moderate|\n",
            "|Christopher Wallace|(14,[0,1,5,7,8],[...|                0|         Low|\n",
            "|      Theresa Smith|(14,[0,1,2,4,11],...|                1|    Moderate|\n",
            "|       Brian Robles|(14,[0,1,2,4,13],...|                2|        High|\n",
            "+-------------------+--------------------+-----------------+------------+\n",
            "only showing top 20 rows\n",
            "\n"
          ]
        }
      ]
    },
    {
      "cell_type": "code",
      "source": [
        "from pyspark.ml.evaluation import ClusteringEvaluator\n",
        "\n",
        "# Menggunakan evaluator untuk menghitung Silhouette Score\n",
        "evaluator = ClusteringEvaluator(predictionCol=\"prediction_kmeans\", featuresCol=\"features\")\n",
        "silhouette_score = evaluator.evaluate(predictions_kmeans)\n",
        "\n",
        "print(f\"Silhouette Score: {silhouette_score}\")"
      ],
      "metadata": {
        "colab": {
          "base_uri": "https://localhost:8080/"
        },
        "id": "kMnTSMnUzacA",
        "outputId": "d85934ad-0ef1-4405-92c1-ac8c7f636ba3"
      },
      "execution_count": null,
      "outputs": [
        {
          "output_type": "stream",
          "name": "stdout",
          "text": [
            "Silhouette Score: 0.7964481525709927\n"
          ]
        }
      ]
    },
    {
      "cell_type": "markdown",
      "source": [
        "<h1>Gaussion Mixture</h1>"
      ],
      "metadata": {
        "id": "lF0772HTf8N2"
      }
    },
    {
      "cell_type": "code",
      "source": [
        "gmm = GaussianMixture(k=3, featuresCol=\"features\", predictionCol=\"prediction_gmn\")\n",
        "model_gmn = gmm.fit(assembled_data)"
      ],
      "metadata": {
        "id": "Jl-doJivsiTO"
      },
      "execution_count": null,
      "outputs": []
    },
    {
      "cell_type": "code",
      "source": [
        "predictions_gmn = model_gmn.transform(assembled_data)"
      ],
      "metadata": {
        "id": "y3f3CLm3s0Km"
      },
      "execution_count": null,
      "outputs": []
    },
    {
      "cell_type": "code",
      "source": [
        "from pyspark.sql.functions import col, when\n",
        "\n",
        "# Menambahkan kolom Stress_Level\n",
        "predictions_gmn = predictions_gmn.withColumn(\n",
        "    \"Stress_Level\",\n",
        "    when(col(\"prediction_gmn\") == 0, \"Low\")\n",
        "    .when(col(\"prediction_gmn\") == 1, \"Moderate\")\n",
        "    .otherwise(\"High\")\n",
        ")\n"
      ],
      "metadata": {
        "id": "6Mczni1ks0xI"
      },
      "execution_count": null,
      "outputs": []
    },
    {
      "cell_type": "code",
      "source": [
        "predictions_gmn.select(\"Name\", \"features\", \"prediction_gmn\", \"Stress_Level\").show()\n",
        "\n",
        "print(\"Gaussian Mixture Model Parameters:\")\n",
        "print(f\"Weights: {model_gmn.weights}\")\n",
        "print(\"Cluster Centers (Means):\")\n",
        "model_gmn.gaussiansDF.show()"
      ],
      "metadata": {
        "colab": {
          "base_uri": "https://localhost:8080/"
        },
        "id": "HWAxqowOs4fj",
        "outputId": "45fcedf6-1a30-4f66-9a95-6a29a28971d8"
      },
      "execution_count": null,
      "outputs": [
        {
          "output_type": "stream",
          "name": "stdout",
          "text": [
            "+-------------------+--------------------+--------------+------------+\n",
            "|               Name|            features|prediction_gmn|Stress_Level|\n",
            "+-------------------+--------------------+--------------+------------+\n",
            "|   Christine Barker|[31.0,26265.0,2.0...|             1|    Moderate|\n",
            "|   Jacqueline Lewis|(14,[0,1,2,4,10,1...|             2|        High|\n",
            "|     Shannon Church|(14,[0,1,2,3,4,9,...|             2|        High|\n",
            "|     Charles Jordan|[58.0,9992.0,3.0,...|             1|    Moderate|\n",
            "|       Michael Rich|[18.0,8595.0,0.0,...|             0|         Low|\n",
            "|         Kathy Hill|(14,[0,1,3,4,5,6,...|             2|        High|\n",
            "|    Crystal Delgado|[60.0,22565.0,1.0...|             1|    Moderate|\n",
            "|     Charles Kaiser|(14,[0,1,3,4,6,9]...|             2|        High|\n",
            "|     Kathryn Taylor|(14,[0,1,3,6,8,9,...|             2|        High|\n",
            "|Alexander Hernandez|(14,[0,1,2,9,10],...|             2|        High|\n",
            "|       Scott Butler|[70.0,28528.0,1.0...|             1|    Moderate|\n",
            "|       Anthony Rowe|(14,[0,1,2],[59.0...|             2|        High|\n",
            "|        Megan Haley|(14,[0,1,2,7,8,10...|             1|    Moderate|\n",
            "|      Anne Gonzalez|[70.0,13428.0,1.0...|             1|    Moderate|\n",
            "|         Linda Bush|(14,[0,1,2,3,7,8,...|             1|    Moderate|\n",
            "|     Daniel Estrada|(14,[0,1,4,6,8],[...|             2|        High|\n",
            "|       Alyssa Scott|(14,[0,1,3,5,6,8,...|             2|        High|\n",
            "|Christopher Wallace|(14,[0,1,5,7,8],[...|             1|    Moderate|\n",
            "|      Theresa Smith|(14,[0,1,2,4,11],...|             2|        High|\n",
            "|       Brian Robles|(14,[0,1,2,4,13],...|             2|        High|\n",
            "+-------------------+--------------------+--------------+------------+\n",
            "only showing top 20 rows\n",
            "\n",
            "Gaussian Mixture Model Parameters:\n",
            "Weights: [0.043324838237311133, 0.31478658237391394, 0.641888579388775]\n",
            "Cluster Centers (Means):\n",
            "+--------------------+--------------------+\n",
            "|                mean|                 cov|\n",
            "+--------------------+--------------------+\n",
            "|[24.2642813865850...|28.41933072180878...|\n",
            "|[58.4204325041163...|216.0185223570154...|\n",
            "|[46.0508249473323...|312.3309860418995...|\n",
            "+--------------------+--------------------+\n",
            "\n"
          ]
        }
      ]
    },
    {
      "cell_type": "code",
      "source": [
        "from pyspark.ml.evaluation import ClusteringEvaluator\n",
        "\n",
        "# Evaluator untuk menghitung Silhouette Score\n",
        "evaluator = ClusteringEvaluator(predictionCol=\"prediction_gmn\", featuresCol=\"features\")\n",
        "silhouette_score = evaluator.evaluate(predictions_gmn)\n",
        "\n",
        "print(f\"Silhouette Score: {silhouette_score}\")"
      ],
      "metadata": {
        "colab": {
          "base_uri": "https://localhost:8080/"
        },
        "id": "fpSKpdzNz_t1",
        "outputId": "60117c72-2e8c-4287-d552-38137f482db6"
      },
      "execution_count": null,
      "outputs": [
        {
          "output_type": "stream",
          "name": "stdout",
          "text": [
            "Silhouette Score: 0.011203413416420081\n"
          ]
        }
      ]
    },
    {
      "cell_type": "markdown",
      "source": [
        "#Classification"
      ],
      "metadata": {
        "id": "Iu41U3Mbf8Iv"
      }
    },
    {
      "cell_type": "markdown",
      "source": [
        "<h1>Gradient Boost tree</h1>"
      ],
      "metadata": {
        "id": "mrp4zEXaf8GC"
      }
    },
    {
      "cell_type": "code",
      "source": [
        "df.show(5, truncate=False)"
      ],
      "metadata": {
        "colab": {
          "base_uri": "https://localhost:8080/"
        },
        "id": "_VRK6RELjw6b",
        "outputId": "c9c2857c-9a99-4a3a-b731-85efe4cd0f3f"
      },
      "execution_count": null,
      "outputs": [
        {
          "output_type": "stream",
          "name": "stdout",
          "text": [
            "+----------------+---+--------------+-----------------+------------------+--------------+-----------------------+-----------------+------+-------------------+--------------+--------------+-------------------------+--------------------------+----------------------------+--------------------------+--------------------+---------------------+--------------------+-----------------------------+-----------------------+--------------------+--------------------+-------------------------------+--------------------------------+----------------------------------+--------------------------------+\n",
            "|Name            |Age|Marital Status|Education Level  |Number of Children|Smoking Status|Physical Activity Level|Employment Status|Income|Alcohol Consumption|Dietary Habits|Sleep Patterns|History of Mental Illness|History of Substance Abuse|Family History of Depression|Chronic Medical Conditions|Marital Status_Index|Education Level_Index|Smoking Status_Index|Physical Activity Level_Index|Employment Status_Index|Dietary Habits_Index|Sleep Patterns_Index|History of Mental Illness_Index|History of Substance Abuse_Index|Family History of Depression_Index|Chronic Medical Conditions_Index|\n",
            "+----------------+---+--------------+-----------------+------------------+--------------+-----------------------+-----------------+------+-------------------+--------------+--------------+-------------------------+--------------------------+----------------------------+--------------------------+--------------------+---------------------+--------------------+-----------------------------+-----------------------+--------------------+--------------------+-------------------------------+--------------------------------+----------------------------------+--------------------------------+\n",
            "|Christine Barker|31 |Married       |Bachelor's Degree|2                 |Non-smoker    |Active                 |Unemployed       |26265 |Moderate           |Moderate      |Fair          |Yes                      |No                        |Yes                         |Yes                       |0.0                 |0.0                  |0.0                 |2.0                          |1.0                    |1.0                 |0.0                 |1.0                            |0.0                             |1.0                               |1.0                             |\n",
            "|Jacqueline Lewis|55 |Married       |High School      |1                 |Non-smoker    |Sedentary              |Employed         |42710 |High               |Unhealthy     |Fair          |Yes                      |No                        |No                          |Yes                       |0.0                 |1.0                  |0.0                 |0.0                          |0.0                    |0.0                 |0.0                 |1.0                            |0.0                             |0.0                               |1.0                             |\n",
            "|Shannon Church  |78 |Widowed       |Master's Degree  |1                 |Non-smoker    |Sedentary              |Employed         |125332|Low                |Unhealthy     |Good          |No                       |No                        |Yes                         |No                        |2.0                 |3.0                  |0.0                 |0.0                          |0.0                    |0.0                 |2.0                 |0.0                            |0.0                             |1.0                               |0.0                             |\n",
            "|Charles Jordan  |58 |Divorced      |Master's Degree  |3                 |Non-smoker    |Moderate               |Unemployed       |9992  |Moderate           |Moderate      |Poor          |No                       |No                        |No                          |No                        |3.0                 |3.0                  |0.0                 |1.0                          |1.0                    |1.0                 |1.0                 |0.0                            |0.0                             |0.0                               |0.0                             |\n",
            "|Michael Rich    |18 |Single        |High School      |0                 |Non-smoker    |Sedentary              |Unemployed       |8595  |Low                |Moderate      |Fair          |Yes                      |No                        |Yes                         |Yes                       |1.0                 |1.0                  |0.0                 |0.0                          |1.0                    |1.0                 |0.0                 |1.0                            |0.0                             |1.0                               |1.0                             |\n",
            "+----------------+---+--------------+-----------------+------------------+--------------+-----------------------+-----------------+------+-------------------+--------------+--------------+-------------------------+--------------------------+----------------------------+--------------------------+--------------------+---------------------+--------------------+-----------------------------+-----------------------+--------------------+--------------------+-------------------------------+--------------------------------+----------------------------------+--------------------------------+\n",
            "only showing top 5 rows\n",
            "\n"
          ]
        }
      ]
    },
    {
      "cell_type": "code",
      "source": [
        "categorical_columns = [\n",
        "    \"Marital Status\", \"Education Level\", \"Smoking Status\", \"Physical Activity Level\",\n",
        "    \"Employment Status\", \"Dietary Habits\", \"Sleep Patterns\",\n",
        "    \"History of Mental Illness\", \"History of Substance Abuse\",\n",
        "    \"Family History of Depression\", \"Chronic Medical Conditions\"\n",
        "]\n",
        "for col_name in categorical_columns:\n",
        "    df = df.fillna({col_name: \"Unknown\"})"
      ],
      "metadata": {
        "id": "GJFORv0SqDr7"
      },
      "execution_count": null,
      "outputs": []
    },
    {
      "cell_type": "code",
      "source": [
        "label_column = \"History of Mental Illness_Index\"\n",
        "encoded_features = [f\"{col}_Index\" for col in categorical_columns if col != \"History of Mental Illness\"]\n",
        "numerical_features = [\"Age\", \"Number of Children\", \"Income\"]"
      ],
      "metadata": {
        "id": "V06xTTWsvuYO"
      },
      "execution_count": null,
      "outputs": []
    },
    {
      "cell_type": "code",
      "source": [
        "assembler = VectorAssembler(inputCols=numerical_features, outputCol=\"raw_features\")\n",
        "raw_data = assembler.transform(df)\n",
        "\n",
        "scaler = MinMaxScaler(inputCol=\"raw_features\", outputCol=\"scaled_features\")\n",
        "scaler_model = scaler.fit(raw_data)\n",
        "scaled_data = scaler_model.transform(raw_data)"
      ],
      "metadata": {
        "id": "SlGcK-2kmB7I"
      },
      "execution_count": null,
      "outputs": []
    },
    {
      "cell_type": "code",
      "source": [
        "final_assembler = VectorAssembler(inputCols=[\"scaled_features\"] + encoded_features, outputCol=\"features\")\n",
        "final_data = final_assembler.transform(scaled_data).select(\"features\", label_column)"
      ],
      "metadata": {
        "id": "wDIWyWfMcT3P"
      },
      "execution_count": null,
      "outputs": []
    },
    {
      "cell_type": "code",
      "source": [
        "train_data, test_data = final_data.randomSplit([0.8, 0.2], seed=42)"
      ],
      "metadata": {
        "id": "_dQvOnS7fRV1"
      },
      "execution_count": null,
      "outputs": []
    },
    {
      "cell_type": "code",
      "source": [
        "gbt = GBTClassifier(labelCol=label_column, featuresCol=\"features\", maxIter=50)"
      ],
      "metadata": {
        "id": "ZCEpVSOMfU6B"
      },
      "execution_count": null,
      "outputs": []
    },
    {
      "cell_type": "code",
      "source": [
        "param_grid = ParamGridBuilder() \\\n",
        "    .addGrid(gbt.maxDepth, [5, 10]) \\\n",
        "    .addGrid(gbt.maxBins, [32, 64]) \\\n",
        "    .addGrid(gbt.maxIter, [20, 50]) \\\n",
        "    .build()\n",
        "\n",
        "evaluator = MulticlassClassificationEvaluator(labelCol=label_column, metricName=\"accuracy\")\n",
        "\n",
        "crossval = CrossValidator(estimator=gbt, estimatorParamMaps=param_grid, evaluator=evaluator, numFolds=3)\n",
        "cv_model = crossval.fit(train_data)"
      ],
      "metadata": {
        "id": "F1-v6t3vfiDs"
      },
      "execution_count": null,
      "outputs": []
    },
    {
      "cell_type": "code",
      "source": [
        "predictions = cv_model.transform(test_data)\n",
        "\n",
        "accuracy = evaluator.evaluate(predictions)\n",
        "print(f\"Test Set Accuracy: {accuracy:.4f}\")\n",
        "\n",
        "predictions.select(\"features\", label_column, \"prediction\").show()"
      ],
      "metadata": {
        "id": "B92mAmXBfjxT",
        "colab": {
          "base_uri": "https://localhost:8080/"
        },
        "outputId": "1346bb1c-fce2-4bde-97c3-0fcdf66e8993"
      },
      "execution_count": null,
      "outputs": [
        {
          "output_type": "stream",
          "name": "stdout",
          "text": [
            "Test Set Accuracy: 0.6942\n",
            "+--------------------+-------------------------------+----------+\n",
            "|            features|History of Mental Illness_Index|prediction|\n",
            "+--------------------+-------------------------------+----------+\n",
            "|(13,[0,1,2],[0.03...|                            0.0|       0.0|\n",
            "|(13,[0,1,2],[0.06...|                            0.0|       0.0|\n",
            "|(13,[0,1,2],[0.06...|                            0.0|       0.0|\n",
            "|(13,[0,1,2],[0.11...|                            1.0|       0.0|\n",
            "|(13,[0,1,2],[0.14...|                            0.0|       0.0|\n",
            "|(13,[0,1,2],[0.14...|                            0.0|       0.0|\n",
            "|(13,[0,1,2],[0.17...|                            0.0|       0.0|\n",
            "|(13,[0,1,2],[0.19...|                            1.0|       0.0|\n",
            "|(13,[0,1,2],[0.20...|                            0.0|       0.0|\n",
            "|(13,[0,1,2],[0.20...|                            1.0|       0.0|\n",
            "|(13,[0,1,2],[0.20...|                            1.0|       0.0|\n",
            "|(13,[0,1,2],[0.20...|                            1.0|       0.0|\n",
            "|(13,[0,1,2],[0.20...|                            0.0|       0.0|\n",
            "|(13,[0,1,2],[0.22...|                            0.0|       0.0|\n",
            "|(13,[0,1,2],[0.22...|                            1.0|       0.0|\n",
            "|(13,[0,1,2],[0.24...|                            0.0|       0.0|\n",
            "|(13,[0,1,2],[0.24...|                            0.0|       0.0|\n",
            "|(13,[0,1,2],[0.27...|                            0.0|       0.0|\n",
            "|(13,[0,1,2],[0.29...|                            1.0|       0.0|\n",
            "|(13,[0,1,2],[0.29...|                            0.0|       0.0|\n",
            "+--------------------+-------------------------------+----------+\n",
            "only showing top 20 rows\n",
            "\n"
          ]
        }
      ]
    },
    {
      "cell_type": "code",
      "source": [
        "best_model = cv_model.bestModel\n",
        "print(\"Feature Importances:\")\n",
        "print(best_model.featureImportances)"
      ],
      "metadata": {
        "id": "q3jRZGkaflik",
        "colab": {
          "base_uri": "https://localhost:8080/"
        },
        "outputId": "fa253ffb-fcf8-4b33-e8cc-76f1a862947d"
      },
      "execution_count": null,
      "outputs": [
        {
          "output_type": "stream",
          "name": "stdout",
          "text": [
            "Feature Importances:\n",
            "(13,[0,1,2,3,4,5,6,7,8,9,10,11,12],[0.08027928983387216,0.02489069886003383,0.19057300895963467,0.026254423485943618,0.13786083513292677,0.08962726239228086,0.02630171995871756,0.3274195288418778,0.029557746648842878,0.028046180715881778,0.009631382114941101,0.01184185265218266,0.017716070402864256])\n"
          ]
        }
      ]
    },
    {
      "cell_type": "markdown",
      "source": [
        "#<h1>Klassifikasi 2</h1>"
      ],
      "metadata": {
        "id": "yFhfYjr4f7dC"
      }
    },
    {
      "cell_type": "code",
      "source": [
        "label_column = \"History of Mental Illness_Index\"\n",
        "encoded_features = [f\"{col}_Index\" for col in categorical_columns if col != \"History of Mental Illness\"]"
      ],
      "metadata": {
        "id": "2yOIRDJcpByS"
      },
      "execution_count": null,
      "outputs": []
    },
    {
      "cell_type": "code",
      "source": [
        "assembler = VectorAssembler(inputCols=encoded_features, outputCol=\"features\")"
      ],
      "metadata": {
        "id": "5rs9z6dL0kC2"
      },
      "execution_count": null,
      "outputs": []
    },
    {
      "cell_type": "code",
      "source": [
        "rf = RandomForestClassifier(featuresCol=\"features\", labelCol=label_column, numTrees=100)"
      ],
      "metadata": {
        "id": "iWDkA9d3pG0-"
      },
      "execution_count": null,
      "outputs": []
    },
    {
      "cell_type": "code",
      "source": [
        "pipeline = Pipeline(stages=[assembler, rf])"
      ],
      "metadata": {
        "id": "25odn59spGyc"
      },
      "execution_count": null,
      "outputs": []
    },
    {
      "cell_type": "code",
      "source": [
        "train_data_rf, test_data_rf = df.randomSplit([0.8, 0.2], seed=42)"
      ],
      "metadata": {
        "id": "8EHGpEg7pGvy"
      },
      "execution_count": null,
      "outputs": []
    },
    {
      "cell_type": "code",
      "source": [
        "model_rf = pipeline.fit(train_data_rf)"
      ],
      "metadata": {
        "id": "qQRKigk_pGtR"
      },
      "execution_count": null,
      "outputs": []
    },
    {
      "cell_type": "code",
      "source": [
        "predictions_rf = model_rf.transform(test_data_rf)"
      ],
      "metadata": {
        "id": "Jq3QCcdIpUsB"
      },
      "execution_count": null,
      "outputs": []
    },
    {
      "cell_type": "code",
      "source": [
        "evaluator = MulticlassClassificationEvaluator(labelCol=label_column, predictionCol=\"prediction\", metricName=\"accuracy\")\n",
        "accuracy = evaluator.evaluate(predictions_rf)\n",
        "\n",
        "print(f\"Test Accuracy: {accuracy:.2f}\")\n"
      ],
      "metadata": {
        "id": "TUEqBkP3pUo-",
        "colab": {
          "base_uri": "https://localhost:8080/"
        },
        "outputId": "ebe65e67-331b-40a1-cbf6-a56c93d2fbf2"
      },
      "execution_count": null,
      "outputs": [
        {
          "output_type": "stream",
          "name": "stdout",
          "text": [
            "Test Accuracy: 0.70\n"
          ]
        }
      ]
    },
    {
      "cell_type": "code",
      "source": [
        "predictions_rf.select(\"features\", label_column, \"prediction\").show()"
      ],
      "metadata": {
        "colab": {
          "base_uri": "https://localhost:8080/"
        },
        "id": "LcSqi9Bg2jsb",
        "outputId": "75b2ed6b-064d-4394-a55c-5fcfd0a42b58"
      },
      "execution_count": null,
      "outputs": [
        {
          "output_type": "stream",
          "name": "stdout",
          "text": [
            "+--------------------+-------------------------------+----------+\n",
            "|            features|History of Mental Illness_Index|prediction|\n",
            "+--------------------+-------------------------------+----------+\n",
            "|(10,[0,3,5,6,7],[...|                            1.0|       0.0|\n",
            "|(10,[2,5,7],[2.0,...|                            0.0|       0.0|\n",
            "|(10,[0,2,3,5,6],[...|                            1.0|       0.0|\n",
            "|[0.0,1.0,1.0,1.0,...|                            0.0|       0.0|\n",
            "|(10,[1,5,6],[2.0,...|                            0.0|       0.0|\n",
            "|[1.0,1.0,1.0,2.0,...|                            0.0|       0.0|\n",
            "|(10,[1,4,7,8],[1....|                            1.0|       0.0|\n",
            "|(10,[2,4,9],[1.0,...|                            0.0|       0.0|\n",
            "|(10,[1,6,8],[2.0,...|                            0.0|       0.0|\n",
            "|[1.0,1.0,1.0,2.0,...|                            0.0|       0.0|\n",
            "|(10,[1,2,6],[2.0,...|                            1.0|       0.0|\n",
            "|(10,[1,2,3,7],[2....|                            0.0|       0.0|\n",
            "|[0.0,4.0,1.0,1.0,...|                            1.0|       0.0|\n",
            "|(10,[1,2,5,6,9],[...|                            0.0|       0.0|\n",
            "|(10,[1,3,6],[2.0,...|                            1.0|       0.0|\n",
            "|(10,[1,3,6],[1.0,...|                            0.0|       0.0|\n",
            "|(10,[0,1,2,7],[3....|                            0.0|       0.0|\n",
            "|(10,[0,4,5,6],[2....|                            0.0|       0.0|\n",
            "|(10,[1,2,3,6],[1....|                            0.0|       0.0|\n",
            "|[0.0,1.0,0.0,1.0,...|                            0.0|       0.0|\n",
            "+--------------------+-------------------------------+----------+\n",
            "only showing top 20 rows\n",
            "\n"
          ]
        }
      ]
    },
    {
      "cell_type": "markdown",
      "source": [
        "#Stop Session"
      ],
      "metadata": {
        "id": "mxcmN3voyGrM"
      }
    },
    {
      "source": [
        "# 12. Menutup SparkSession\n",
        "spark.stop()"
      ],
      "cell_type": "code",
      "metadata": {
        "id": "Rk--FW1gPIIU"
      },
      "execution_count": null,
      "outputs": []
    },
    {
      "cell_type": "markdown",
      "source": [
        "#Kesimpulan"
      ],
      "metadata": {
        "id": "88p7Ctr-3YRw"
      }
    },
    {
      "cell_type": "markdown",
      "source": [
        "K-Means dan RandomForest pilihan terbaik, kalo gak percaya liat aja sendiri pak!!!"
      ],
      "metadata": {
        "id": "FvLZcOq93bM7"
      }
    }
  ]
}